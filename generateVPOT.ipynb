{
 "cells": [
  {
   "cell_type": "code",
   "execution_count": 2,
   "id": "ea41605b-90e2-4bdc-8023-cff587f19a0b",
   "metadata": {
    "tags": []
   },
   "outputs": [],
   "source": [
    "%load_ext autoreload\n",
    "%autoreload 2\n",
    "from vpot.calc import myMolecule, sphericalGrid, blockGrid\n",
    "from vpot.calc.potential import vpot,vBpot, vpotANC\n",
    "from vpot.calc import DFTGroundState\n",
    "from matplotlib import pyplot as plt\n",
    "import psi4\n",
    "import numpy as np\n",
    "import logging,time\n",
    "from ase.io import read,write\n",
    "logging.basicConfig(filename='benchmark.log', level=logging.INFO,filemode=\"w\")"
   ]
  },
  {
   "cell_type": "code",
   "execution_count": 13,
   "id": "004a4f2e-be6a-4323-9d09-5945d6bf0bfe",
   "metadata": {
    "tags": []
   },
   "outputs": [],
   "source": [
    "A = read(\"tests/6-QM7/dsgdb7njpNewline.xyz\",index=\":\")"
   ]
  },
  {
   "cell_type": "code",
   "execution_count": 14,
   "id": "cfcf0fd0-e213-42fd-9b87-1c36eebff5fb",
   "metadata": {
    "tags": []
   },
   "outputs": [
    {
     "name": "stdout",
     "output_type": "stream",
     "text": [
      "[7203, 5]\n"
     ]
    }
   ],
   "source": [
    "X = []\n",
    "for c,i in enumerate(A):\n",
    "    X.append([c,len(set(i.get_atomic_numbers()))])\n",
    "S = sorted(X,key=lambda x:x[1])\n",
    "print(S[-1])\n",
    "A[S[-1][0]].write(\"hetero.xyz\")"
   ]
  },
  {
   "cell_type": "code",
   "execution_count": null,
   "id": "f367b946-1f58-49eb-8b7d-3bb1433e6fe5",
   "metadata": {
    "tags": []
   },
   "outputs": [
    {
     "ename": "NameError",
     "evalue": "name 'myMolecule' is not defined",
     "output_type": "error",
     "traceback": [
      "\u001b[0;31m---------------------------------------------------------------------------\u001b[0m",
      "\u001b[0;31mNameError\u001b[0m                                 Traceback (most recent call last)",
      "Cell \u001b[0;32mIn[1], line 1\u001b[0m\n\u001b[0;32m----> 1\u001b[0m M  \u001b[38;5;241m=\u001b[39m \u001b[43mmyMolecule\u001b[49m(\u001b[38;5;124m\"\u001b[39m\u001b[38;5;124mhetero.xyz\u001b[39m\u001b[38;5;124m\"\u001b[39m,\u001b[38;5;124m\"\u001b[39m\u001b[38;5;124mdef2-QZVP\u001b[39m\u001b[38;5;124m\"\u001b[39m)\n\u001b[1;32m      2\u001b[0m Gs \u001b[38;5;241m=\u001b[39m sphericalGrid(M,minDist\u001b[38;5;241m=\u001b[39m\u001b[38;5;241m0.0\u001b[39m,maxDist\u001b[38;5;241m=\u001b[39m\u001b[38;5;241m10.0\u001b[39m)\n\u001b[1;32m      3\u001b[0m VMat \u001b[38;5;241m=\u001b[39m Gs\u001b[38;5;241m.\u001b[39moptimizeBasis(potentialType\u001b[38;5;241m=\u001b[39m\u001b[38;5;124m\"\u001b[39m\u001b[38;5;124manc\u001b[39m\u001b[38;5;124m\"\u001b[39m,a\u001b[38;5;241m=\u001b[39m\u001b[38;5;241m3\u001b[39m)\n",
      "\u001b[0;31mNameError\u001b[0m: name 'myMolecule' is not defined"
     ]
    }
   ],
   "source": [
    "M  = myMolecule(\"hetero.xyz\",\"def2-QZVP\")\n",
    "Gs = sphericalGrid(M,minDist=0.0,maxDist=10.0,nRadial=250,nSphere=590)\n",
    "VMat = Gs.optimizeBasis(potentialType=\"anc\",a=3)\n",
    "Gs.printStats(VMat,output=\"print\")\n",
    "Gs.exportErrorVsDistance(VMat)"
   ]
  },
  {
   "cell_type": "code",
   "execution_count": 16,
   "id": "8158c282-a563-484d-8370-cd7bb562ee90",
   "metadata": {
    "tags": []
   },
   "outputs": [
    {
     "data": {
      "text/plain": [
       "(612525, 442)"
      ]
     },
     "execution_count": 16,
     "metadata": {},
     "output_type": "execute_result"
    }
   ],
   "source": [
    "Gs.phi.shape"
   ]
  },
  {
   "cell_type": "code",
   "execution_count": null,
   "id": "025b9f7e-a147-4028-bed5-cce81e3da667",
   "metadata": {
    "tags": []
   },
   "outputs": [
    {
     "name": "stdout",
     "output_type": "stream",
     "text": [
      "   => Loading Basis Set <=\n",
      "\n",
      "    Name: DEF2-QZVP-DECON\n",
      "    Role: ORBITAL\n",
      "    Keyword: BASIS\n",
      "    atoms 1, 3 entry O          line   290 file /media/miniconda3/envs/vpot/share/psi4/basis/def2-qzvp.gbs func decontract\n",
      "    atoms 2    entry S          line   744 file /media/miniconda3/envs/vpot/share/psi4/basis/def2-qzvp.gbs func decontract\n",
      "    atoms 4-6  entry C          line   194 file /media/miniconda3/envs/vpot/share/psi4/basis/def2-qzvp.gbs func decontract\n",
      "    atoms 7    entry N          line   242 file /media/miniconda3/envs/vpot/share/psi4/basis/def2-qzvp.gbs func decontract\n",
      "    atoms 8    entry H          line    15 file /media/miniconda3/envs/vpot/share/psi4/basis/def2-qzvp.gbs func decontract\n",
      "\n"
     ]
    }
   ],
   "source": [
    "prec = 2\n",
    "\n",
    "M  = myMolecule(\"hetero.xyz\",\"def2-QZVP-decon\")\n",
    "Gs = sphericalGrid(M,minDist=0.0,maxDist=10.0,nRadial=250,nSphere=590,pruningScheme=\"None\")\n",
    "VMat = Gs.optimizeBasis(potentialType=\"anc\",a=prec)\n",
    "Gs.printStats(VMat,output=\"print\")\n",
    "Gs.exportErrorVsDistance(VMat)\n",
    "\n",
    "\n",
    "VANCbasis = np.einsum(\"ji,j,jk,j->ik\",Gs.phi,vBpot(Gs.phi,VMat.diagonal()),Gs.phi,Gs.weights,optimize=True)\n",
    "VANCexact = np.einsum(\"ji,j,jk,j->ik\",Gs.phi,vpotANC(M.geom,M.elez,Gs.points,prec),Gs.phi,Gs.weights,optimize=True)\n",
    "VPOT = M.ao_pot\n",
    "\n",
    "#basis error; anc error\n",
    "print(f\"{np.linalg.norm(VANCbasis-VANCexact)} {np.linalg.norm(VANCexact-VPOT)}\")"
   ]
  },
  {
   "cell_type": "code",
   "execution_count": 28,
   "id": "12ac0a64-26c6-455c-b300-478305627d36",
   "metadata": {
    "tags": []
   },
   "outputs": [
    {
     "name": "stdout",
     "output_type": "stream",
     "text": [
      "CPU times: user 2.1 s, sys: 80 ms, total: 2.18 s\n",
      "Wall time: 2.18 s\n"
     ]
    }
   ],
   "source": [
    "%%time\n",
    "VB = vBpot(Gs.phi,VMat.diagonal())\n",
    "I1 = VB*Gs.weights\n",
    "VANCbasis2 = np.einsum(\"ji,j,jk->ik\",Gs.phi,I1,Gs.phi,optimize=True)\n"
   ]
  },
  {
   "cell_type": "code",
   "execution_count": 24,
   "id": "7e079051-ee05-4eb7-8984-d8aece1b91bf",
   "metadata": {
    "tags": []
   },
   "outputs": [
    {
     "name": "stderr",
     "output_type": "stream",
     "text": [
      "/tmp/ipykernel_10870/3438155168.py:1: RuntimeWarning: invalid value encountered in sqrt\n",
      "  np.sqrt(-1)\n"
     ]
    },
    {
     "data": {
      "text/plain": [
       "nan"
      ]
     },
     "execution_count": 24,
     "metadata": {},
     "output_type": "execute_result"
    }
   ],
   "source": [
    "np.sqrt(-1)"
   ]
  },
  {
   "cell_type": "code",
   "execution_count": 18,
   "id": "7d36b2f7-4301-4909-8072-57540167880d",
   "metadata": {
    "tags": []
   },
   "outputs": [
    {
     "name": "stdout",
     "output_type": "stream",
     "text": [
      "PREFIX               VPOT                \n",
      "E_CONV               1e-08               \n",
      "D_CONV               1e-06               \n",
      "MAXITER              150                 \n",
      "BASIS                def2-QZVP           \n",
      "GAMMA                0.95                \n",
      "DIIS_LEN             6                   \n",
      "DIIS_MODE            ADIIS+CDIIS         \n",
      "DIIS_EPS             0.1                 \n",
      "MIXMODE              DAMP                \n",
      "RESTART              False               \n",
      "\n",
      "\n",
      "=================================\n",
      "=Entering Ground State Kohn-Sham=\n",
      "=================================\n",
      "\n",
      "\n",
      "Options Run:\n",
      "============\n",
      "\n",
      "\n",
      "\n",
      "Basis Set:\n",
      "==========\n",
      "\n",
      "   => Loading Basis Set <=\n",
      "\n",
      "    Name: DEF2-QZVP\n",
      "    Role: ORBITAL\n",
      "    Keyword: BASIS\n",
      "    atoms 1, 3 entry O          line   290 file /media/miniconda3/envs/vpot/share/psi4/basis/def2-qzvp.gbs \n",
      "    atoms 2    entry S          line   744 file /media/miniconda3/envs/vpot/share/psi4/basis/def2-qzvp.gbs \n",
      "    atoms 4-6  entry C          line   194 file /media/miniconda3/envs/vpot/share/psi4/basis/def2-qzvp.gbs \n",
      "    atoms 7    entry N          line   242 file /media/miniconda3/envs/vpot/share/psi4/basis/def2-qzvp.gbs \n",
      "    atoms 8    entry H          line    15 file /media/miniconda3/envs/vpot/share/psi4/basis/def2-qzvp.gbs \n",
      "\n",
      "   => Loading Basis Set <=\n",
      "\n",
      "    Name: (DEF2-QZVP AUX)\n",
      "    Role: JKFIT\n",
      "    Keyword: DF_BASIS_SCF\n",
      "    atoms 1, 3 entry O          line   318 file /media/miniconda3/envs/vpot/share/psi4/basis/def2-universal-jkfit.gbs \n",
      "    atoms 2    entry S          line   903 file /media/miniconda3/envs/vpot/share/psi4/basis/def2-universal-jkfit.gbs \n",
      "    atoms 4-6  entry C          line   198 file /media/miniconda3/envs/vpot/share/psi4/basis/def2-universal-jkfit.gbs \n",
      "    atoms 7    entry N          line   258 file /media/miniconda3/envs/vpot/share/psi4/basis/def2-universal-jkfit.gbs \n",
      "    atoms 8    entry H          line    18 file /media/miniconda3/envs/vpot/share/psi4/basis/def2-universal-jkfit.gbs \n",
      "\n",
      "\n",
      "Changed AO-potential!\n",
      "Creating SADNO guess\n",
      "\n",
      "\n",
      "\n",
      "Molecule:\n",
      "=========\n",
      "\n",
      "    Molecular point group: c1\n",
      "    Full point group: C1\n",
      "\n",
      "    Geometry (in Angstrom), charge = 0, multiplicity = 1:\n",
      "\n",
      "       Center              X                  Y                   Z               Mass       \n",
      "    ------------   -----------------  -----------------  -----------------  -----------------\n",
      "         O            0.999348130000     0.036809350000    -0.046090210000    15.994914619570\n",
      "         S            2.439464820000    -0.087729080000     0.107130260000    31.972071174400\n",
      "         O            3.073502740000    -0.685668320000     1.270527730000    15.994914619570\n",
      "         C            3.095378570000    -0.790165390000    -1.310640860000    12.000000000000\n",
      "         C            3.530538170000    -1.354282990000    -2.293441630000    12.000000000000\n",
      "         C            3.110740820000     1.542212170000    -0.055724590000    12.000000000000\n",
      "         N            3.525328960000     2.633628090000    -0.110058380000    14.003074004430\n",
      "         H            3.917917800000    -1.848223820000    -3.164222320000     1.007825032230\n",
      "\n",
      "\n",
      "\n",
      "XC & JK-Info:\n",
      "=============\n",
      "\n",
      "  DFHelper Memory: AOs need 0.817 GiB; user supplied 0.293 GiB. Turning off in-core AOs.\n",
      "\n",
      "   => Composite Functional: PBE <= \n",
      "\n",
      "    PBE GGA Exchange-Correlation Functional\n",
      "\n",
      "    J.P. Perdew et. al., Phys. Rev. Lett., 77(18), 3865-3868, 1996\n",
      "\n",
      "\n",
      "    Deriv               =              1\n",
      "    GGA                 =           TRUE\n",
      "    Meta                =          FALSE\n",
      "\n",
      "    Exchange Hybrid     =          FALSE\n",
      "    MP2 Hybrid          =          FALSE\n",
      "\n",
      "   => Exchange Functionals <=\n",
      "\n",
      "    1.0000     XC_GGA_X_PBE\n",
      "\n",
      "   => Correlation Functionals <=\n",
      "\n",
      "    1.0000     XC_GGA_C_PBE\n",
      "\n",
      "   => LibXC Density Thresholds  <==\n",
      "\n",
      "    XC_GGA_C_PBE:  1.00E-12 \n",
      "    XC_GGA_X_PBE:  1.00E-15 \n",
      "\n",
      "\n",
      "\n",
      "  ==> MemDFJK: Density-Fitted J/K Matrices <==\n",
      "\n",
      "    J tasked:                   Yes\n",
      "    K tasked:                   Yes\n",
      "    wK tasked:                   No\n",
      "    OpenMP threads:               1\n",
      "    Memory [MiB]:               300\n",
      "    Algorithm:                 Disk\n",
      "    Schwarz Cutoff:           1E-12\n",
      "    Mask sparsity (%):      11.6726\n",
      "    Fitting Condition:        1E-10\n",
      "\n",
      "   => Auxiliary Basis Set <=\n",
      "\n",
      "  Basis Set: (DEF2-QZVP AUX)\n",
      "    Blend: DEF2-UNIVERSAL-JKFIT\n",
      "    Number of shells: 194\n",
      "    Number of basis functions: 602\n",
      "    Number of Cartesian functions: 721\n",
      "    Spherical Harmonics?: true\n",
      "    Max angular momentum: 4\n",
      "\n",
      "\n",
      "\n",
      "Starting SCF:\n",
      "=============\n",
      "\n",
      "   E_CONV: 1.00E-08\n",
      "   D_CONV: 1.00E-06\n",
      "     DAMP:   0.9500\n",
      " DIIS_EPS: 1.00E-01\n",
      "  MAXITER:      150\n",
      " DIIS_LEN:        6\n",
      "DIIS_MODE: ADIIS+CDIIS\n",
      "\n",
      "# IT      Escf         dEscf      Derror      DIIS-E        MIX      Time  \n",
      "================================================================================\n",
      "   1  -696.66340212  -6.967E+02   3.026E+03   9.427E+01    DAMP      20.09  1 \n",
      "   2  -714.18697770  -1.752E+01   2.909E+02   1.190E+01    DAMP      20.18  2 \n",
      "   3  -720.02122217  -5.834E+00   8.995E+01   9.663E+00    DAMP      20.06  3 \n",
      "   4  -723.17391555  -3.153E+00   1.214E+02   8.343E+00    DAMP      20.11  4 \n",
      "   5  -726.72210197  -3.548E+00   1.851E+02   7.387E+00    DAMP      20.03  5 \n",
      "   6  -728.72136269  -1.999E+00   3.072E+02   5.538E+00    DAMP      20.10  6 \n",
      "   7  -730.54700348  -1.826E+00   1.513E+02   5.311E+00    DAMP      20.04  6 \n",
      "   8  -732.06413928  -1.517E+00   1.667E+02   4.260E+00    DAMP      20.06  6 \n",
      "   9  -732.52386226  -4.597E-01   1.807E+02   3.956E+00    DAMP      20.06  6 \n",
      "  10  -732.72424803  -2.004E-01   2.054E+02   3.740E+00    DAMP      20.02  6 \n",
      "  11  -733.14495724  -4.207E-01   1.696E+02   3.397E+00    DAMP      20.04  6 \n",
      "  12  -733.41295877  -2.680E-01   1.768E+02   3.361E+00    DAMP      20.07  6 \n",
      "  13  -733.91627008  -5.033E-01   1.408E+02   3.007E+00    DAMP      20.04  6 \n",
      "  14  -734.30590994  -3.896E-01   1.508E+02   2.487E+00    DAMP      20.06  6 \n",
      "  15  -734.38812412  -8.221E-02   1.193E+02   2.692E+00    DAMP      20.04  6 \n",
      "  16  -734.52862316  -1.405E-01   1.323E+02   2.154E+00    DAMP      20.05  6 \n",
      "  17  -734.55549529  -2.687E-02   1.110E+02   2.503E+00    DAMP      20.05  6 \n",
      "  18  -734.53710985   1.839E-02   1.184E+02   2.159E+00    DAMP      20.07  6 \n",
      "  19  -734.63794353  -1.008E-01   1.017E+02   2.399E+00    DAMP      20.03  6 \n",
      "  20  -734.59297052   4.497E-02   1.039E+02   2.145E+00    DAMP      20.03  6 \n",
      "  21  -734.69390752  -1.009E-01   9.266E+01   2.316E+00    DAMP      20.02  6 \n",
      "  22  -734.65228242   4.163E-02   9.255E+01   2.148E+00    DAMP      20.04  6 \n",
      "  23  -734.73298013  -8.070E-02   8.634E+01   2.252E+00    DAMP      20.08  6 \n",
      "  24  -734.70456193   2.842E-02   8.508E+01   2.150E+00    DAMP      20.08  6 \n",
      "  25  -734.76136336  -5.680E-02   8.268E+01   2.201E+00    DAMP      20.04  6 \n",
      "  26  -734.73808429   2.328E-02   8.082E+01   2.151E+00    DAMP      20.09  6 \n",
      "  27  -734.78185484  -4.377E-02   8.067E+01   2.161E+00    DAMP      20.05  6 \n",
      "  28  -734.75951885   2.234E-02   7.858E+01   2.152E+00    DAMP      20.02  6 \n",
      "  29  -734.79657475  -3.706E-02   7.967E+01   2.131E+00    DAMP      20.48  6 \n",
      "  30  -734.77323932   2.334E-02   7.755E+01   2.154E+00    DAMP      20.09  6 \n",
      "  31  -734.80707655  -3.384E-02   7.928E+01   2.107E+00    DAMP      20.09  6 \n",
      "  32  -734.78147805   2.560E-02   7.727E+01   2.155E+00    DAMP      20.08  6 \n",
      "  33  -734.81436587  -3.289E-02   7.922E+01   2.090E+00    DAMP      20.19  6 \n",
      "  34  -734.78600399   2.836E-02   7.739E+01   2.158E+00    DAMP      20.07  6 \n",
      "  35  -734.81911492  -3.311E-02   7.930E+01   2.077E+00    DAMP      20.07  6 \n",
      "  36  -734.78789772   3.122E-02   7.768E+01   2.163E+00    DAMP      20.07  6 \n",
      "  37  -734.82181542  -3.392E-02   7.938E+01   2.068E+00    DAMP      20.05  6 \n",
      "  38  -734.78844204   3.337E-02   7.797E+01   2.168E+00    DAMP      20.09  6 \n",
      "  39  -734.82296919  -3.453E-02   7.942E+01   2.062E+00    DAMP      20.03  6 \n",
      "  40  -734.78805590   3.491E-02   7.820E+01   2.174E+00    DAMP      20.05  6 \n",
      "  41  -734.82304271  -3.499E-02   7.936E+01   2.059E+00    DAMP      20.03  6 \n",
      "  42  -734.78797765   3.507E-02   7.830E+01   2.179E+00    DAMP      20.08  6 \n",
      "  43  -734.82259675  -3.462E-02   7.930E+01   2.057E+00    DAMP      20.06  6 \n",
      "  44  -734.78652467   3.607E-02   7.838E+01   2.185E+00    DAMP      20.06  6 \n",
      "  45  -734.82171725  -3.519E-02   7.907E+01   2.056E+00    DAMP      20.08  6 \n",
      "  46  -734.78941215   3.231E-02   7.825E+01   2.188E+00    DAMP      20.01  6 \n",
      "  47  -734.82151553  -3.210E-02   7.925E+01   2.054E+00    DAMP      20.09  6 \n",
      "  48  -734.77759847   4.392E-02   7.860E+01   2.200E+00    DAMP      20.10  6 \n",
      "  49  -734.81883518  -4.124E-02   7.779E+01   2.056E+00    DAMP      20.05  6 \n",
      "  50  -734.82281856  -3.983E-03   7.693E+01   2.173E+00    DAMP      20.01  6 \n",
      "  51  -734.82655066  -3.732E-03   8.137E+01   2.045E+00    DAMP      20.00  6 \n",
      "  52  -734.63147405   1.951E-01   8.193E+01   2.299E+00    DAMP      19.99  6 \n",
      "  53  -734.78601106  -1.545E-01   5.749E+01   2.099E+00    DAMP      19.95  6 \n",
      "  54  -735.17201985  -3.860E-01   5.389E+01   1.881E+00    DAMP      20.00  6 \n",
      "  55  -734.86723070   3.048E-01   7.899E+01   2.028E+00    DAMP      19.97  6 \n",
      "  56  -734.18474440   6.825E-01   8.296E+01   2.543E+00    DAMP      19.96  6 \n",
      "  57  -734.69215165  -5.074E-01   6.272E+01   2.235E+00    DAMP      20.01  6 \n",
      "  58  -735.16912948  -4.770E-01   5.762E+01   1.863E+00    DAMP      19.94  6 \n",
      "  59  -734.86615552   3.030E-01   8.162E+01   2.019E+00    DAMP      19.99  6 \n",
      "  60  -734.27002900   5.961E-01   8.467E+01   2.454E+00    DAMP      20.06  6 \n",
      "  61  -734.73006733  -4.600E-01   6.068E+01   2.179E+00    DAMP      19.99  6 \n",
      "  62  -735.18962496  -4.596E-01   5.595E+01   1.841E+00    DAMP      20.01  6 \n",
      "  63  -734.87045617   3.192E-01   8.200E+01   2.015E+00    DAMP      20.03  6 \n",
      "  64  -734.27851608   5.919E-01   8.502E+01   2.434E+00    DAMP      19.98  6 \n",
      "  65  -734.74175881  -4.632E-01   6.293E+01   2.162E+00    DAMP      20.01  6 \n",
      "  66  -735.15657551  -4.148E-01   5.880E+01   1.878E+00    DAMP      20.01  6 \n",
      "  67  -734.86784220   2.887E-01   8.224E+01   2.011E+00    DAMP      19.97  6 \n",
      "  68  -734.30682203   5.610E-01   8.510E+01   2.419E+00    DAMP      20.02  6 \n",
      "  69  -734.74646886  -4.396E-01   6.137E+01   2.153E+00    DAMP      20.03  6 \n",
      "  70  -735.17894898  -4.325E-01   5.710E+01   1.853E+00    DAMP      20.02  6 \n",
      "  71  -734.87093962   3.080E-01   8.214E+01   2.010E+00    DAMP      20.03  6 \n",
      "  72  -734.29827292   5.727E-01   8.512E+01   2.419E+00    DAMP      20.01  6 \n",
      "  73  -734.74870725  -4.504E-01   6.289E+01   2.150E+00    DAMP      20.18  6 \n",
      "  74  -735.15731101  -4.086E-01   5.893E+01   1.877E+00    DAMP      20.00  6 \n",
      "  75  -734.86891481   2.884E-01   8.219E+01   2.008E+00    DAMP      19.97  6 \n",
      "  76  -734.31455156   5.544E-01   8.510E+01   2.412E+00    DAMP      20.01  6 \n",
      "  77  -734.75028633  -4.357E-01   6.179E+01   2.146E+00    DAMP      20.01  6 \n",
      "  78  -735.17357170  -4.233E-01   5.770E+01   1.859E+00    DAMP      20.02  6 \n",
      "  79  -734.87111087   3.025E-01   8.207E+01   2.007E+00    DAMP      19.99  6 \n",
      "  80  -734.30618631   5.649E-01   8.508E+01   2.414E+00    DAMP      19.97  6 \n",
      "  81  -734.75086997  -4.447E-01   6.276E+01   2.146E+00    DAMP      20.05  6 \n",
      "  82  -735.15963987  -4.088E-01   5.886E+01   1.874E+00    DAMP      19.99  6 \n",
      "  83  -734.86973306   2.899E-01   8.209E+01   2.006E+00    DAMP      19.96  6 \n",
      "  84  -734.31620892   5.535E-01   8.505E+01   2.411E+00    DAMP      20.19  6 \n",
      "  85  -734.75160909  -4.354E-01   6.204E+01   2.144E+00    DAMP      19.94  6 \n",
      "  86  -735.17038939  -4.188E-01   5.805E+01   1.863E+00    DAMP      19.96  6 \n",
      "  87  -734.87117391   2.992E-01   8.199E+01   2.005E+00    DAMP      20.02  6 \n",
      "  88  -734.31019941   5.610E-01   8.503E+01   2.413E+00    DAMP      20.00  6 \n",
      "  89  -734.75178210  -4.416E-01   6.265E+01   2.144E+00    DAMP      20.00  6 \n",
      "  90  -735.16155646  -4.098E-01   5.877E+01   1.872E+00    DAMP      20.45  6 \n",
      "  91  -734.87027309   2.913E-01   8.200E+01   2.005E+00    DAMP      20.01  6 \n",
      "  92  -734.31641167   5.539E-01   8.501E+01   2.411E+00    DAMP      20.01  6 \n",
      "  93  -734.75218146  -4.358E-01   6.219E+01   2.143E+00    DAMP      20.06  6 \n",
      "  94  -735.16840804  -4.162E-01   5.825E+01   1.865E+00    DAMP      19.98  6 \n",
      "  95  -734.87118556   2.972E-01   8.194E+01   2.005E+00    DAMP      20.01  6 \n",
      "  96  -734.31238958   5.588E-01   8.499E+01   2.412E+00    DAMP      19.98  6 \n",
      "  97  -734.75223224  -4.398E-01   6.257E+01   2.143E+00    DAMP      19.99  6 \n",
      "  98  -735.16286295  -4.106E-01   5.870E+01   1.871E+00    DAMP      19.98  6 \n",
      "  99  -734.87060726   2.923E-01   8.194E+01   2.004E+00    DAMP      19.98  6 \n",
      " 100  -734.31611429   5.545E-01   8.498E+01   2.411E+00    DAMP      19.98  6 \n",
      " 101  -734.75245758  -4.363E-01   6.228E+01   2.142E+00    DAMP      20.00  6 \n",
      " 102  -735.16714524  -4.147E-01   5.838E+01   1.866E+00    DAMP      20.00  6 \n",
      " 103  -734.87117162   2.960E-01   8.190E+01   2.004E+00    DAMP      20.01  6 \n",
      " 104  -734.31324189   5.579E-01   8.496E+01   2.412E+00    DAMP      20.00  6 \n",
      " 105  -734.75246138  -4.392E-01   6.252E+01   2.142E+00    DAMP      19.96  6 \n",
      " 106  -735.16366250  -4.112E-01   5.866E+01   1.870E+00    DAMP      20.00  6 \n",
      " 107  -734.87079629   2.929E-01   8.189E+01   2.004E+00    DAMP      20.04  6 \n",
      " 108  -734.31485389   5.559E-01   8.495E+01   2.411E+00    DAMP      19.94  6 \n",
      " 109  -734.75257785  -4.377E-01   6.233E+01   2.142E+00    DAMP      19.90  6 \n",
      " 110  -735.16626870  -4.137E-01   5.845E+01   1.867E+00    DAMP      20.19  6 \n",
      " 111  -734.87112552   2.951E-01   8.186E+01   2.004E+00    DAMP      20.01  6 \n",
      " 112  -734.31151461   5.596E-01   8.493E+01   2.411E+00    DAMP      19.97  6 \n",
      " 113  -734.75255928  -4.410E-01   6.244E+01   2.142E+00    DAMP      20.01  6 \n",
      " 114  -735.16406402  -4.115E-01   5.858E+01   1.870E+00    DAMP      20.00  6 \n",
      " 115  -734.87086397   2.932E-01   8.179E+01   2.004E+00    DAMP      20.02  6 \n",
      " 116  -734.30925471   5.616E-01   8.485E+01   2.410E+00    DAMP      19.99  6 \n",
      " 117  -734.75271830  -4.435E-01   6.212E+01   2.141E+00    DAMP      19.98  6 \n",
      " 118  -735.16595886  -4.132E-01   5.825E+01   1.868E+00    DAMP      19.96  6 \n",
      " 119  -734.87110359   2.949E-01   8.144E+01   2.003E+00    DAMP      19.97  6 \n",
      " 120  -734.30126900   5.698E-01   8.449E+01   2.409E+00    DAMP      19.99  6 \n",
      " 121  -734.75349751  -4.522E-01   6.125E+01   2.140E+00    DAMP      19.99  6 \n",
      " 122  -735.16660003  -4.131E-01   5.744E+01   1.870E+00    DAMP      19.96  6 \n",
      " 123  -734.87141566   2.952E-01   8.006E+01   2.003E+00    DAMP      20.05  6 \n",
      " 124  -734.29409519   5.773E-01   8.300E+01   2.402E+00    DAMP      20.00  6 \n",
      " 125  -734.75752533  -4.634E-01   5.838E+01   2.133E+00    DAMP      19.95  6 \n",
      " 126  -735.17135741  -4.138E-01   5.472E+01   1.872E+00    DAMP      20.00  6 \n",
      " 127  -734.87305762   2.983E-01   7.662E+01   2.000E+00    DAMP      19.99  6 \n",
      " 128  -734.29666750   5.764E-01   7.930E+01   2.385E+00    DAMP      20.00  6 \n",
      " 129  -734.76785084  -4.712E-01   5.512E+01   2.117E+00    DAMP      19.95  6 \n",
      " 130  -735.16428122  -3.964E-01   5.180E+01   1.887E+00    DAMP      20.02  6 \n",
      " 131  -734.87368054   2.906E-01   7.265E+01   1.997E+00    DAMP      19.95  6 \n",
      " 132  -734.31779437   5.559E-01   7.501E+01   2.366E+00    DAMP      19.96  6 \n",
      " 133  -734.77921653  -4.614E-01   5.327E+01   2.099E+00    DAMP      19.99  6 \n",
      " 134  -735.14865717  -3.694E-01   5.025E+01   1.906E+00    DAMP      20.00  6 \n",
      " 135  -734.87232840   2.763E-01   6.968E+01   1.996E+00    DAMP      19.95  6 \n",
      " 136  -734.34312577   5.292E-01   7.179E+01   2.352E+00    DAMP      19.97  6 \n",
      " 137  -734.78638431  -4.433E-01   5.233E+01   2.087E+00    DAMP      19.95  6 \n",
      " 138  -735.13109123  -3.447E-01   4.954E+01   1.925E+00    DAMP      19.99  6 \n",
      " 139  -734.86971469   2.614E-01   6.750E+01   1.997E+00    DAMP      19.98  6 \n",
      " 140  -734.36603284   5.037E-01   6.944E+01   2.344E+00    DAMP      19.96  6 \n",
      " 141  -734.79023511  -4.242E-01   5.176E+01   2.080E+00    DAMP      19.95  6 \n",
      " 142  -735.11380063  -3.236E-01   4.915E+01   1.943E+00    DAMP      19.97  6 \n",
      " 143  -734.86662221   2.472E-01   6.578E+01   1.999E+00    DAMP      19.96  6 \n",
      " 144  -734.38539050   4.812E-01   6.761E+01   2.339E+00    DAMP      20.01  6 \n",
      " 145  -734.79219473  -4.068E-01   5.135E+01   2.077E+00    DAMP      19.94  6 \n",
      " 146  -735.09727751  -3.051E-01   4.889E+01   1.960E+00    DAMP      19.98  6 \n",
      " 147  -734.86350454   2.338E-01   6.437E+01   2.001E+00    DAMP      19.99  6 \n",
      " 148  -734.40157591   4.619E-01   6.610E+01   2.336E+00    DAMP      19.93  6 \n",
      " 149  -734.79314654  -3.916E-01   5.102E+01   2.075E+00    DAMP      20.00  6 \n",
      " 150  -735.08162926  -2.885E-01   4.870E+01   1.975E+00    DAMP      19.97  6 \n"
     ]
    },
    {
     "ename": "Exception",
     "evalue": "Maximum number of SCF cycles exceeded.",
     "output_type": "error",
     "traceback": [
      "\u001b[0;31m---------------------------------------------------------------------------\u001b[0m",
      "\u001b[0;31mException\u001b[0m                                 Traceback (most recent call last)",
      "Cell \u001b[0;32mIn[18], line 1\u001b[0m\n\u001b[0;32m----> 1\u001b[0m MyDFTbasis,_ \u001b[38;5;241m=\u001b[39m \u001b[43mDFTGroundState\u001b[49m\u001b[43m(\u001b[49m\u001b[43mM\u001b[49m\u001b[43m,\u001b[49m\u001b[38;5;124;43m\"\u001b[39;49m\u001b[38;5;124;43mPBE\u001b[39;49m\u001b[38;5;124;43m\"\u001b[39;49m\u001b[43m,\u001b[49m\u001b[43mAOPOT\u001b[49m\u001b[38;5;241;43m=\u001b[39;49m\u001b[43mVANCbasis\u001b[49m\u001b[43m)\u001b[49m\n",
      "File \u001b[0;32m/media/Projects/vpot/vpot/calc/dft.py:329\u001b[0m, in \u001b[0;36mDFTGroundState\u001b[0;34m(mol, func, **kwargs)\u001b[0m\n\u001b[1;32m    327\u001b[0m         occb[:nbeta]  \u001b[38;5;241m=\u001b[39m \u001b[38;5;241m1.0\u001b[39m\n\u001b[1;32m    328\u001b[0m         np\u001b[38;5;241m.\u001b[39msavez(options[\u001b[38;5;124m\"\u001b[39m\u001b[38;5;124mPREFIX\u001b[39m\u001b[38;5;124m\"\u001b[39m]\u001b[38;5;241m+\u001b[39m\u001b[38;5;124m'\u001b[39m\u001b[38;5;124m_gsorbs\u001b[39m\u001b[38;5;124m'\u001b[39m,Ca\u001b[38;5;241m=\u001b[39mCa,Cb\u001b[38;5;241m=\u001b[39mCb,occa\u001b[38;5;241m=\u001b[39mocca,occb\u001b[38;5;241m=\u001b[39moccb,epsa\u001b[38;5;241m=\u001b[39mepsa,epsb\u001b[38;5;241m=\u001b[39mepsb)\n\u001b[0;32m--> 329\u001b[0m         \u001b[38;5;28;01mraise\u001b[39;00m \u001b[38;5;167;01mException\u001b[39;00m(\u001b[38;5;124m\"\u001b[39m\u001b[38;5;124mMaximum number of SCF cycles exceeded.\u001b[39m\u001b[38;5;124m\"\u001b[39m)\n\u001b[1;32m    331\u001b[0m psi4\u001b[38;5;241m.\u001b[39mcore\u001b[38;5;241m.\u001b[39mprint_out(\u001b[38;5;124m\"\u001b[39m\u001b[38;5;130;01m\\n\u001b[39;00m\u001b[38;5;130;01m\\n\u001b[39;00m\u001b[38;5;124mFINAL GS SCF ENERGY: \u001b[39m\u001b[38;5;132;01m{:12.8f}\u001b[39;00m\u001b[38;5;124m [Ha] \u001b[39m\u001b[38;5;130;01m\\n\u001b[39;00m\u001b[38;5;130;01m\\n\u001b[39;00m\u001b[38;5;124m\"\u001b[39m\u001b[38;5;241m.\u001b[39mformat(SCF_E))\n\u001b[1;32m    333\u001b[0m occa \u001b[38;5;241m=\u001b[39m np\u001b[38;5;241m.\u001b[39mzeros(nbf,dtype\u001b[38;5;241m=\u001b[39mnp\u001b[38;5;241m.\u001b[39mfloat)\n",
      "\u001b[0;31mException\u001b[0m: Maximum number of SCF cycles exceeded."
     ]
    }
   ],
   "source": [
    "MyDFTbasis,_ = DFTGroundState(M,\"PBE\",AOPOT=VANCbasis)"
   ]
  },
  {
   "cell_type": "code",
   "execution_count": null,
   "id": "820a7031-ebbb-473c-b534-7f4f2c316892",
   "metadata": {
    "tags": []
   },
   "outputs": [],
   "source": [
    "E,_ = M.runPSI4(\"PBE\")"
   ]
  },
  {
   "cell_type": "code",
   "execution_count": null,
   "id": "95eb42df-cfe6-4b3f-acbd-2c2020112495",
   "metadata": {},
   "outputs": [],
   "source": []
  }
 ],
 "metadata": {
  "kernelspec": {
   "display_name": "Python 3 (ipykernel)",
   "language": "python",
   "name": "python3"
  },
  "language_info": {
   "codemirror_mode": {
    "name": "ipython",
    "version": 3
   },
   "file_extension": ".py",
   "mimetype": "text/x-python",
   "name": "python",
   "nbconvert_exporter": "python",
   "pygments_lexer": "ipython3",
   "version": "3.9.16"
  }
 },
 "nbformat": 4,
 "nbformat_minor": 5
}
